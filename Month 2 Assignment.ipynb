{
 "cells": [
  {
   "cell_type": "markdown",
   "id": "21e0e9be-03e3-44f8-933c-b5ae18b718aa",
   "metadata": {},
   "source": [
    "### Advantra User Authentication System – Notebook Brief\n",
    "\n",
    "This notebook implements a simple **in-memory user authentication system** for Advantra Technology’s web application. The system is designed to manage users without a database, using Python dictionaries to store user information.\n",
    "\n",
    "#### **Features Implemented**\n",
    "\n",
    "1. **User Registration (`register`)**\n",
    "\n",
    "   * Adds a new user with a **unique ID**, email, name, and password.\n",
    "   * Validates email format, password strength (≥8 characters, at least one digit), and prevents duplicate emails.\n",
    "   * Default role is `is_admin = False`.\n",
    "\n",
    "2. **User Login (`login`)**\n",
    "\n",
    "   * Checks if a user exists and verifies their password.\n",
    "   * Returns a success or error message with the user ID if login succeeds.\n",
    "\n",
    "3. **Remove User (`remove_user`)**\n",
    "\n",
    "   * Deletes a user by their unique ID.\n",
    "   * Returns success if removed or an error if the user does not exist.\n",
    "\n",
    "#### **Bonus Features**\n",
    "\n",
    "4. **List Users (`list_users`)**\n",
    "\n",
    "   * Returns all users’ IDs, emails, and names.\n",
    "   * Does **not expose passwords**.\n",
    "\n",
    "5. **Update Password (`update_password`)**\n",
    "\n",
    "   * Validates the old password.\n",
    "   * Applies the same password strength rules.\n",
    "   * Updates the password if valid.\n",
    "\n",
    "#### **Data Structure**\n",
    "\n",
    "Users are stored in a Python dictionary:\n",
    "\n",
    "```python\n",
    "users = {\n",
    "    id: {\n",
    "        \"email\": \"example@address.com\",\n",
    "        \"name\": \"John Doe\",\n",
    "        \"password\": \"password\",  # plaintext for now\n",
    "        \"is_admin\": False\n",
    "    }\n",
    "}\n",
    "```\n",
    "\n",
    "#### **Key Notes**\n",
    "\n",
    "* The system is **fully in-memory**, so data resets when the program stops.\n",
    "* Passwords are stored in **plaintext** for simplicity but can be improved with hashing.\n",
    "* Designed for **educational purposes**, to be used as Altschool Data Engineering Assignment Submission file."
   ]
  },
  {
   "cell_type": "code",
   "execution_count": 16,
   "id": "33da4c44-36d5-4266-ba09-aa3852b3d980",
   "metadata": {},
   "outputs": [],
   "source": [
    "import re\n",
    "\n",
    "# In-memory user storage\n",
    "users = {}\n",
    "next_user_id = 1  # auto-increment ID\n",
    "\n",
    "# Helper function to validate password\n",
    "def is_strong_password(password):\n",
    "    return len(password) >= 8 and any(char.isdigit() for char in password)\n",
    "\n",
    "# Function 1: Registering a new user\n",
    "def register(email: str, name: str, password: str) -> dict:\n",
    "    global next_user_id\n",
    "    \n",
    "    # Validation checks on the email\n",
    "    if '@' not in email:\n",
    "        return {\"status\": \"error\", \"message\": \"Invalid email address\"}\n",
    "    \n",
    "    if not is_strong_password(password):\n",
    "        return {\"status\": \"error\", \"message\": \"Password must be at least 8 characters long and contain at least one digit\"}\n",
    "    \n",
    "    if any(user[\"email\"] == email for user in users.values()):\n",
    "        return {\"status\": \"error\", \"message\": \"User email already taken\"}\n",
    "    \n",
    "    # Creating a new user\n",
    "    user_id = next_user_id\n",
    "    users[user_id] = {\n",
    "        \"email\": email,\n",
    "        \"name\": name,\n",
    "        \"password\": password,  # plaintext for now\n",
    "        \"is_admin\": False\n",
    "    }\n",
    "    next_user_id += 1\n",
    "    \n",
    "    return {\"status\": \"success\", \"message\": \"User registered successfully\", \"user_id\": user_id}"
   ]
  },
  {
   "cell_type": "code",
   "execution_count": 17,
   "id": "f79b8fc0-cc61-4c51-b4a4-2804870537f0",
   "metadata": {},
   "outputs": [],
   "source": [
    "# Function 2: Login the created user\n",
    "def login(email: str, password: str) -> dict:\n",
    "    for user_id, user in users.items():\n",
    "        if user[\"email\"] == email and user[\"password\"] == password:\n",
    "            return {\"status\": \"success\", \"message\": \"Login successful\", \"user_id\": user_id}\n",
    "    return {\"status\": \"error\", \"message\": \"Invalid email or password\"}"
   ]
  },
  {
   "cell_type": "code",
   "execution_count": 18,
   "id": "f73ee975-eda3-4f12-9478-3ab464f42c2a",
   "metadata": {},
   "outputs": [],
   "source": [
    "# Function 3: Removing a created user\n",
    "def remove_user(user_id: int) -> dict:\n",
    "    if user_id in users:\n",
    "        del users[user_id]\n",
    "        return {\"status\": \"success\", \"message\": \"User removed successfully\"}\n",
    "    return {\"status\": \"error\", \"message\": \"User not found\"}"
   ]
  },
  {
   "cell_type": "code",
   "execution_count": 19,
   "id": "66e4aeb6-3268-42b6-b7de-c2b5c41e9cd8",
   "metadata": {},
   "outputs": [],
   "source": [
    "# Bonus Function 1: Listing the users (without passwords)\n",
    "def list_users() -> list:\n",
    "    return [{\"id\": uid, \"email\": u[\"email\"], \"name\": u[\"name\"]} for uid, u in users.items()]\n"
   ]
  },
  {
   "cell_type": "code",
   "execution_count": 20,
   "id": "0c83e7b1-e039-498c-a6a6-f3b97701d767",
   "metadata": {},
   "outputs": [],
   "source": [
    "# Bonus Function 2: Updating the passwords for the created users\n",
    "def update_password(user_id: int, old_password: str, new_password: str) -> dict:\n",
    "    if user_id not in users:\n",
    "        return {\"status\": \"error\", \"message\": \"User not found\"}\n",
    "    \n",
    "    user = users[user_id]\n",
    "    \n",
    "    if user[\"password\"] != old_password:\n",
    "        return {\"status\": \"error\", \"message\": \"Old password does not match\"}\n",
    "    \n",
    "    if not is_strong_password(new_password):\n",
    "        return {\"status\": \"error\", \"message\": \"New password must be at least 8 characters long and contain at least one digit\"}\n",
    "    \n",
    "    user[\"password\"] = new_password\n",
    "    return {\"status\": \"success\", \"message\": \"Password updated successfully\"}\n"
   ]
  },
  {
   "cell_type": "code",
   "execution_count": 22,
   "id": "db79a61b-5a25-4faa-85dd-063618b4e7d0",
   "metadata": {},
   "outputs": [
    {
     "name": "stdout",
     "output_type": "stream",
     "text": [
      "{'status': 'error', 'message': 'User email already taken'}\n",
      "{'status': 'error', 'message': 'User email already taken'}\n"
     ]
    }
   ],
   "source": [
    "# Example Usage:\n",
    "# Registering more users\n",
    "print(register(\"nuriamghoi@gmail.com\", \"Nuria Mghoi\", \"pass1234\"))\n",
    "print(register(\"nurianmghoi@gmail.com\", \"Nuria Mghoi Hatibu\", \"abc12345\"))"
   ]
  },
  {
   "cell_type": "code",
   "execution_count": 23,
   "id": "c9266b2d-8490-463d-8450-6b5f1c20016a",
   "metadata": {},
   "outputs": [
    {
     "name": "stdout",
     "output_type": "stream",
     "text": [
      "{'status': 'success', 'message': 'Login successful', 'user_id': 1}\n",
      "{'status': 'error', 'message': 'Invalid email or password'}\n"
     ]
    }
   ],
   "source": [
    "# Login\n",
    "print(login(\"nuriamghoi@gmail.com\", \"pass1234\"))\n",
    "print(login(\"nurianmghoi@gmail.com\", \"wrongpass\"))"
   ]
  },
  {
   "cell_type": "code",
   "execution_count": 24,
   "id": "b484ee8e-27db-4ca5-b0ab-23c1d4f94b69",
   "metadata": {},
   "outputs": [
    {
     "name": "stdout",
     "output_type": "stream",
     "text": [
      "[{'id': 1, 'email': 'nuriamghoi@gmail.com', 'name': 'Nuria Mghoi'}, {'id': 2, 'email': 'nurianmghoi@gmail.com', 'name': 'Nuria Mghoi Hatibu'}]\n"
     ]
    }
   ],
   "source": [
    "# List users\n",
    "print(list_users())"
   ]
  },
  {
   "cell_type": "code",
   "execution_count": 25,
   "id": "c21539c5-0557-4705-9236-dfe5b958b14e",
   "metadata": {},
   "outputs": [
    {
     "name": "stdout",
     "output_type": "stream",
     "text": [
      "{'status': 'success', 'message': 'Password updated successfully'}\n"
     ]
    }
   ],
   "source": [
    "# Update password\n",
    "print(update_password(1, \"pass1234\", \"newpass567\"))"
   ]
  },
  {
   "cell_type": "code",
   "execution_count": 26,
   "id": "11ac4965-2b4f-4d2c-9d78-d08c0339d910",
   "metadata": {},
   "outputs": [
    {
     "name": "stdout",
     "output_type": "stream",
     "text": [
      "{'status': 'success', 'message': 'User removed successfully'}\n",
      "[{'id': 1, 'email': 'nuriamghoi@gmail.com', 'name': 'Nuria Mghoi'}]\n"
     ]
    }
   ],
   "source": [
    "# Remove user\n",
    "print(remove_user(2))\n",
    "print(list_users())"
   ]
  },
  {
   "cell_type": "code",
   "execution_count": null,
   "id": "9afd822e-6712-4acc-b4d1-9fc662a31736",
   "metadata": {},
   "outputs": [],
   "source": []
  }
 ],
 "metadata": {
  "kernelspec": {
   "display_name": "Python 3 (ipykernel)",
   "language": "python",
   "name": "python3"
  },
  "language_info": {
   "codemirror_mode": {
    "name": "ipython",
    "version": 3
   },
   "file_extension": ".py",
   "mimetype": "text/x-python",
   "name": "python",
   "nbconvert_exporter": "python",
   "pygments_lexer": "ipython3",
   "version": "3.12.7"
  }
 },
 "nbformat": 4,
 "nbformat_minor": 5
}
